{
 "cells": [
  {
   "cell_type": "markdown",
   "metadata": {},
   "source": [
    "# Dimensionality Reduction on MNIST dataset\n",
    "\n",
    "This notebook discusses the importance of dimensionality reduction as a preprocessing step. We will show that high dimensional datasets can sometimes be expressed using only a few dimensions and that reducing dimensionality can make our datasets easier to work with and decrease the training time of our models. \n",
    "\n",
    "### What is dimensionalty and why is it important? \n",
    "In simplistic terms, it is just the number of columns in the dataset, but it has significant downstream effects on the eventual models. The concept of the “curse of dimensionality” indicates that in high-dimensional spaces the proximity between objects have diminished differentiation effects. Even in relatively low dimensional problems, a dataset with more dimensions requires more parameters for the model to understand, and that means more rows to reliably learn those parameters. If the number of rows in the dataset is fixed, addition of extra dimensions without adding more information for the models to learn from can have a detrimental effect on the eventual model accuracy.\n",
    "\n",
    "### Dataset used for this activity:\n",
    "The MNIST dataset is composed of 28x28 pixel images of handwriten digits from zero through nine.\n",
    "\n",
    "Each image is 28 pixels in height and 28 pixels in width, for a total of 784 pixels in total. Each pixel has a single pixel-value associated with it, indicating the lightness or darkness of that pixel, with higher numbers meaning darker. This pixel-value is an integer between 0 and 255, inclusive.\n",
    "\n",
    "The training data set, (train.csv), has 785 columns. The first column, called \"label\", is the digit that was drawn by the user. The rest of the columns contain the pixel-values of the associated image.\n",
    "\n",
    "#### References: \n",
    "https://www.kaggle.com/c/digit-recognizer/data\n",
    "http://www.eggie5.com/69-dimensionality-reduction-using-pca"
   ]
  },
  {
   "cell_type": "code",
   "execution_count": 2,
   "metadata": {},
   "outputs": [
    {
     "name": "stdout",
     "output_type": "stream",
     "text": [
      "Train data shape : (33600, 784)\n",
      "Test data shape : (8400, 784)\n"
     ]
    },
    {
     "data": {
      "text/html": [
       "<div>\n",
       "<style scoped>\n",
       "    .dataframe tbody tr th:only-of-type {\n",
       "        vertical-align: middle;\n",
       "    }\n",
       "\n",
       "    .dataframe tbody tr th {\n",
       "        vertical-align: top;\n",
       "    }\n",
       "\n",
       "    .dataframe thead th {\n",
       "        text-align: right;\n",
       "    }\n",
       "</style>\n",
       "<table border=\"1\" class=\"dataframe\">\n",
       "  <thead>\n",
       "    <tr style=\"text-align: right;\">\n",
       "      <th></th>\n",
       "      <th>pixel0</th>\n",
       "      <th>pixel1</th>\n",
       "      <th>pixel2</th>\n",
       "      <th>pixel3</th>\n",
       "      <th>pixel4</th>\n",
       "      <th>pixel5</th>\n",
       "      <th>pixel6</th>\n",
       "      <th>pixel7</th>\n",
       "      <th>pixel8</th>\n",
       "      <th>pixel9</th>\n",
       "      <th>...</th>\n",
       "      <th>pixel774</th>\n",
       "      <th>pixel775</th>\n",
       "      <th>pixel776</th>\n",
       "      <th>pixel777</th>\n",
       "      <th>pixel778</th>\n",
       "      <th>pixel779</th>\n",
       "      <th>pixel780</th>\n",
       "      <th>pixel781</th>\n",
       "      <th>pixel782</th>\n",
       "      <th>pixel783</th>\n",
       "    </tr>\n",
       "  </thead>\n",
       "  <tbody>\n",
       "    <tr>\n",
       "      <th>34941</th>\n",
       "      <td>0</td>\n",
       "      <td>0</td>\n",
       "      <td>0</td>\n",
       "      <td>0</td>\n",
       "      <td>0</td>\n",
       "      <td>0</td>\n",
       "      <td>0</td>\n",
       "      <td>0</td>\n",
       "      <td>0</td>\n",
       "      <td>0</td>\n",
       "      <td>...</td>\n",
       "      <td>0</td>\n",
       "      <td>0</td>\n",
       "      <td>0</td>\n",
       "      <td>0</td>\n",
       "      <td>0</td>\n",
       "      <td>0</td>\n",
       "      <td>0</td>\n",
       "      <td>0</td>\n",
       "      <td>0</td>\n",
       "      <td>0</td>\n",
       "    </tr>\n",
       "    <tr>\n",
       "      <th>24433</th>\n",
       "      <td>0</td>\n",
       "      <td>0</td>\n",
       "      <td>0</td>\n",
       "      <td>0</td>\n",
       "      <td>0</td>\n",
       "      <td>0</td>\n",
       "      <td>0</td>\n",
       "      <td>0</td>\n",
       "      <td>0</td>\n",
       "      <td>0</td>\n",
       "      <td>...</td>\n",
       "      <td>0</td>\n",
       "      <td>0</td>\n",
       "      <td>0</td>\n",
       "      <td>0</td>\n",
       "      <td>0</td>\n",
       "      <td>0</td>\n",
       "      <td>0</td>\n",
       "      <td>0</td>\n",
       "      <td>0</td>\n",
       "      <td>0</td>\n",
       "    </tr>\n",
       "    <tr>\n",
       "      <th>24432</th>\n",
       "      <td>0</td>\n",
       "      <td>0</td>\n",
       "      <td>0</td>\n",
       "      <td>0</td>\n",
       "      <td>0</td>\n",
       "      <td>0</td>\n",
       "      <td>0</td>\n",
       "      <td>0</td>\n",
       "      <td>0</td>\n",
       "      <td>0</td>\n",
       "      <td>...</td>\n",
       "      <td>0</td>\n",
       "      <td>0</td>\n",
       "      <td>0</td>\n",
       "      <td>0</td>\n",
       "      <td>0</td>\n",
       "      <td>0</td>\n",
       "      <td>0</td>\n",
       "      <td>0</td>\n",
       "      <td>0</td>\n",
       "      <td>0</td>\n",
       "    </tr>\n",
       "    <tr>\n",
       "      <th>8832</th>\n",
       "      <td>0</td>\n",
       "      <td>0</td>\n",
       "      <td>0</td>\n",
       "      <td>0</td>\n",
       "      <td>0</td>\n",
       "      <td>0</td>\n",
       "      <td>0</td>\n",
       "      <td>0</td>\n",
       "      <td>0</td>\n",
       "      <td>0</td>\n",
       "      <td>...</td>\n",
       "      <td>0</td>\n",
       "      <td>0</td>\n",
       "      <td>0</td>\n",
       "      <td>0</td>\n",
       "      <td>0</td>\n",
       "      <td>0</td>\n",
       "      <td>0</td>\n",
       "      <td>0</td>\n",
       "      <td>0</td>\n",
       "      <td>0</td>\n",
       "    </tr>\n",
       "    <tr>\n",
       "      <th>30291</th>\n",
       "      <td>0</td>\n",
       "      <td>0</td>\n",
       "      <td>0</td>\n",
       "      <td>0</td>\n",
       "      <td>0</td>\n",
       "      <td>0</td>\n",
       "      <td>0</td>\n",
       "      <td>0</td>\n",
       "      <td>0</td>\n",
       "      <td>0</td>\n",
       "      <td>...</td>\n",
       "      <td>0</td>\n",
       "      <td>0</td>\n",
       "      <td>0</td>\n",
       "      <td>0</td>\n",
       "      <td>0</td>\n",
       "      <td>0</td>\n",
       "      <td>0</td>\n",
       "      <td>0</td>\n",
       "      <td>0</td>\n",
       "      <td>0</td>\n",
       "    </tr>\n",
       "  </tbody>\n",
       "</table>\n",
       "<p>5 rows × 784 columns</p>\n",
       "</div>"
      ],
      "text/plain": [
       "       pixel0  pixel1  pixel2  pixel3  pixel4  pixel5  pixel6  pixel7  pixel8  \\\n",
       "34941       0       0       0       0       0       0       0       0       0   \n",
       "24433       0       0       0       0       0       0       0       0       0   \n",
       "24432       0       0       0       0       0       0       0       0       0   \n",
       "8832        0       0       0       0       0       0       0       0       0   \n",
       "30291       0       0       0       0       0       0       0       0       0   \n",
       "\n",
       "       pixel9    ...     pixel774  pixel775  pixel776  pixel777  pixel778  \\\n",
       "34941       0    ...            0         0         0         0         0   \n",
       "24433       0    ...            0         0         0         0         0   \n",
       "24432       0    ...            0         0         0         0         0   \n",
       "8832        0    ...            0         0         0         0         0   \n",
       "30291       0    ...            0         0         0         0         0   \n",
       "\n",
       "       pixel779  pixel780  pixel781  pixel782  pixel783  \n",
       "34941         0         0         0         0         0  \n",
       "24433         0         0         0         0         0  \n",
       "24432         0         0         0         0         0  \n",
       "8832          0         0         0         0         0  \n",
       "30291         0         0         0         0         0  \n",
       "\n",
       "[5 rows x 784 columns]"
      ]
     },
     "execution_count": 2,
     "metadata": {},
     "output_type": "execute_result"
    }
   ],
   "source": [
    "import pandas as pd\n",
    "import numpy as np\n",
    "import time\n",
    "\n",
    "from sklearn.model_selection import train_test_split\n",
    "\n",
    "train = pd.read_csv('data/mnist_train.csv')\n",
    "\n",
    "# Separate labels from the data\n",
    "y = train['label']\n",
    "# Drop the label feature\n",
    "X = train.drop(\"label\",axis=1)\n",
    "\n",
    "# Split the train data into X_train and y_train datasets in 80:20 ratio.\n",
    "X_train, X_test, y_train, y_test = train_test_split(\n",
    "    X, y, test_size=0.2, random_state=42)\n",
    "\n",
    "print (\"Train data shape : \" + str(X_train.shape))\n",
    "print (\"Test data shape : \" + str(X_test.shape))\n",
    "X_train.head()"
   ]
  },
  {
   "cell_type": "markdown",
   "metadata": {},
   "source": [
    "### Applying KNN classifier on MNIST dataset without applying Dimensionality Reduction\n",
    "\n",
    "Let’s take a look at how long it takes to train a KNN Classifier on the MNIST dataset:"
   ]
  },
  {
   "cell_type": "code",
   "execution_count": 4,
   "metadata": {},
   "outputs": [
    {
     "name": "stdout",
     "output_type": "stream",
     "text": [
      "Error rate without dimensionality reduction: 280/8400 * 100 = 3.333333\n",
      "Time taken to train a KNN Classifier without DR: 319 seconds\n"
     ]
    }
   ],
   "source": [
    "from sklearn.neighbors import KNeighborsClassifier\n",
    "\n",
    "start = time.time()\n",
    "clf = KNeighborsClassifier(n_neighbors=3, algorithm='ball_tree')\n",
    "clf.fit(X_train, y_train)\n",
    "y = clf.predict(X_test)\n",
    "\n",
    "# Calculate error in prediction\n",
    "errors = (y_test != y).sum()\n",
    "total = X_test.shape[0]\n",
    "error_rate_without_dr = (errors/float(total)) * 100\n",
    "print (\"Error rate without dimensionality reduction: %d/%d * 100 = %f\" % (errors, total, error_rate_without_dr))\n",
    "\n",
    "end = time.time()\n",
    "duration_without_dr = end-start\n",
    "print (\"Time taken to train a KNN Classifier without DR: %d seconds\" %duration_without_dr)"
   ]
  },
  {
   "cell_type": "markdown",
   "metadata": {
    "collapsed": true
   },
   "source": [
    "### Applying PCA transform\n",
    "\n",
    "The output of a PCA process is a system of linear combinations of the data that we will use to transform our original dataset to the reduced dimensional dataset"
   ]
  },
  {
   "cell_type": "code",
   "execution_count": 6,
   "metadata": {},
   "outputs": [
    {
     "name": "stdout",
     "output_type": "stream",
     "text": [
      "PCA transformation time: 3 seconds\n"
     ]
    }
   ],
   "source": [
    "from sklearn.decomposition import PCA\n",
    "start = time.time()\n",
    "pca = PCA(n_components=150)\n",
    "pca.fit(X_train)\n",
    "\n",
    "X_train_pca = pca.transform(X_train)\n",
    "X_test_pca = pca.transform(X_test)\n",
    "print (\"PCA transformation time: %d seconds\" % (time.time()-start))"
   ]
  },
  {
   "cell_type": "markdown",
   "metadata": {},
   "source": [
    "Let’s take a look at how long it takes to train a KNN Classifier after applying PCA on the MNIST dataset:"
   ]
  },
  {
   "cell_type": "code",
   "execution_count": 8,
   "metadata": {},
   "outputs": [
    {
     "name": "stdout",
     "output_type": "stream",
     "text": [
      "Error rate with PCA: 247/8400 * 100 = 2.940476\n",
      "Time taken to train a KNN Classifier with PCA: 86 seconds\n"
     ]
    }
   ],
   "source": [
    "start = time.time()\n",
    "clf.fit(X_train_pca, y_train)\n",
    "y = clf.predict(X_test_pca)\n",
    "\n",
    "errors = (y_test != y).sum()\n",
    "total = X_test_pca.shape[0]\n",
    "error_rate_with_pca = (errors/float(total)) * 100\n",
    "print (\"Error rate with PCA: %d/%d * 100 = %f\" % (errors, total, error_rate_with_pca))\n",
    "\n",
    "end = time.time()\n",
    "duration_with_pca = end-start\n",
    "print (\"Time taken to train a KNN Classifier with PCA: %d seconds\" %duration_with_pca)"
   ]
  },
  {
   "cell_type": "markdown",
   "metadata": {},
   "source": [
    "### Applying SVD transform\n",
    "\n",
    "Singular Value Decomposition (SVD) is a matrix factorization technique that factors a matrix M into the three matrices U, Σ, and V. This is very similar to PCA, except that the factorization for SVD is done on the data matrix, whereas for PCA, the factorization is done on the covariance matrix. Typically, SVD is used under the hood to find the principle components of a matrix."
   ]
  },
  {
   "cell_type": "code",
   "execution_count": 10,
   "metadata": {},
   "outputs": [
    {
     "name": "stdout",
     "output_type": "stream",
     "text": [
      "SVD transformation time: 4 seconds\n",
      "Error rate with SVD: 250/8400 * 100 = 2.976190\n",
      "Time taken to train a KNN Classifier with SVD: 93 seconds\n"
     ]
    }
   ],
   "source": [
    "from sklearn.decomposition import TruncatedSVD\n",
    "\n",
    "start = time.time()\n",
    "svd = TruncatedSVD(n_components=150)\n",
    "svd.fit(X_train)\n",
    "\n",
    "X_train_svd = svd.transform(X_train)\n",
    "X_test_svd = svd.transform(X_test)\n",
    "print (\"SVD transformation time: %d seconds\" % (time.time()-start))\n",
    "\n",
    "start = time.time()\n",
    "clf.fit(X_train_svd, y_train)\n",
    "y = clf.predict(X_test_svd)\n",
    "\n",
    "errors = (y_test != y).sum()\n",
    "total = X_test_svd.shape[0]\n",
    "error_rate_with_svd = (errors/float(total)) * 100\n",
    "print (\"Error rate with SVD: %d/%d * 100 = %f\" % (errors, total, error_rate_with_svd))\n",
    "\n",
    "end = time.time()\n",
    "duration_with_svd = end-start\n",
    "print (\"Time taken to train a KNN Classifier with SVD: %d seconds\" %duration_with_svd)"
   ]
  },
  {
   "cell_type": "markdown",
   "metadata": {},
   "source": [
    "### Applying Random Projections\n",
    "\n",
    "The sklearn.random_projection module implements a simple and computationally efficient way to reduce the dimensionality of the data by trading a controlled amount of accuracy (as additional variance) for faster processing times and smaller model sizes. \n",
    "\n",
    "https://en.wikipedia.org/wiki/Random_projection"
   ]
  },
  {
   "cell_type": "code",
   "execution_count": 12,
   "metadata": {},
   "outputs": [
    {
     "name": "stdout",
     "output_type": "stream",
     "text": [
      "RP transformation time: 0 seconds\n",
      "Error rate with Random Projection: 373/8400 * 100 = 4.440476\n",
      "Time taken to train a KNN Classifier with Random Projection: 93 seconds\n"
     ]
    }
   ],
   "source": [
    "from sklearn import random_projection\n",
    "\n",
    "start = time.time()\n",
    "rp = random_projection.SparseRandomProjection(n_components=150, random_state=19)\n",
    "rp.fit(X_train)\n",
    "\n",
    "X_train_rp = rp.transform(X_train)\n",
    "X_test_rp = rp.transform(X_test)\n",
    "print (\"RP transformation time: %d seconds\" % (time.time()-start))\n",
    "\n",
    "start = time.time()\n",
    "clf.fit(X_train_rp, y_train)\n",
    "y = clf.predict(X_test_rp)\n",
    "\n",
    "errors = (y_test != y).sum()\n",
    "total = X_test_rp.shape[0]\n",
    "error_rate_with_rp = (errors/float(total)) * 100\n",
    "print (\"Error rate with Random Projection: %d/%d * 100 = %f\" % (errors, total, error_rate_with_rp))\n",
    "\n",
    "end = time.time()\n",
    "duration_with_rp = end-start\n",
    "print (\"Time taken to train a KNN Classifier with Random Projection: %d seconds\" %duration_with_rp)"
   ]
  },
  {
   "cell_type": "code",
   "execution_count": null,
   "metadata": {},
   "outputs": [],
   "source": []
  }
 ],
 "metadata": {
  "anaconda-cloud": {},
  "kernelspec": {
   "display_name": "Python 3",
   "language": "python",
   "name": "python3"
  },
  "language_info": {
   "codemirror_mode": {
    "name": "ipython",
    "version": 3
   },
   "file_extension": ".py",
   "mimetype": "text/x-python",
   "name": "python",
   "nbconvert_exporter": "python",
   "pygments_lexer": "ipython3",
   "version": "3.6.8"
  }
 },
 "nbformat": 4,
 "nbformat_minor": 2
}
