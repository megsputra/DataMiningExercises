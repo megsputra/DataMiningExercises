{
 "cells": [
  {
   "cell_type": "markdown",
   "metadata": {},
   "source": [
    "\n",
    "# Linear Regression Example\n",
    "\n",
    "This example uses the truck sales dataset to illustrate ordinary least-squares (OLS), or linear regression. The\n",
    "plot shows the line that linear regression learns, which best minimizes the residual sum of squares\n",
    "between the observed responses in the dataset, and the responses predicted by\n",
    "the linear approximation. We also compute the residual sum of squares and the variance score for the model.\n",
    "\n"
   ]
  },
  {
   "cell_type": "code",
   "execution_count": 1,
   "metadata": {},
   "outputs": [
    {
     "name": "stdout",
     "output_type": "stream",
     "text": [
      "y = 0.434585 + 0.851144x\n",
      "Mean squared error: 0.011812\n",
      "Variance score: 0.997083\n"
     ]
    },
    {
     "data": {
      "image/png": "[encoded data removed]",
      "text/plain": [
       "<Figure size 432x288 with 1 Axes>"
      ]
     },
     "metadata": {},
     "output_type": "display_data"
    }
   ],
   "source": [
    "%matplotlib inline\n",
    "import matplotlib.pyplot as plt\n",
    "import numpy as np\n",
    "import pandas as pd\n",
    "from sklearn import linear_model\n",
    "\n",
    "# Get data\n",
    "df = pd.read_csv(\n",
    "    filepath_or_buffer='data/trucks.csv', \n",
    "    header=None)\n",
    "data = df.iloc[:,:].values\n",
    "X = data[:,0].reshape(-1, 1)\n",
    "Y = data[:,1].reshape(-1, 1)\n",
    "\n",
    "# Train the model using the training sets\n",
    "regr = linear_model.LinearRegression()\n",
    "regr.fit(X, Y)\n",
    "slope = regr.coef_[0]\n",
    "intercept = regr.intercept_\n",
    "\n",
    "print(\"y = %f + %fx\" %(intercept, slope))\n",
    "print(\"Mean squared error: %f\"\n",
    "      % np.mean((regr.predict(X) - Y) ** 2))\n",
    "# Explained variance score: 1 is perfect prediction\n",
    "print('Variance score: %f' % regr.score(X, Y))\n",
    "\n",
    "# Plot outputs\n",
    "plt.scatter(X, Y,  color='black')\n",
    "plt.plot(X, regr.predict(X), color='red',\n",
    "          linewidth=1)\n",
    "plt.show()"
   ]
  },
  {
   "cell_type": "markdown",
   "metadata": {},
   "source": [
    "In the cell below, we load a subset of the Iris dataset from UCI, specifically all the samples for the \"Iris Setosa\" flower. The function `model` finds the OLS model for a pair of features in the data and computes the residual sum of squares and the variance score for that model. The parameters `regressor` and `response` are the names of the X and Y variables."
   ]
  },
  {
   "cell_type": "code",
   "execution_count": 2,
   "metadata": {},
   "outputs": [],
   "source": [
    "import numpy as np\n",
    "import pandas as pd\n",
    "from sklearn import linear_model\n",
    "\n",
    "df = pd.read_csv(\n",
    "    filepath_or_buffer='https://archive.ics.uci.edu/ml/machine-learning-databases/iris/iris.data', \n",
    "    header=None)\n",
    "data = df.iloc[:,:].values\n",
    "data = data[data[:,4] == \"Iris-setosa\"][:,:4]\n",
    "\n",
    "def model(X, Y, regressor=\"X\", response=\"Y\"):\n",
    "    X = X.reshape(-1, 1)\n",
    "    Y = Y.reshape(-1, 1)\n",
    "    regr = linear_model.LinearRegression()\n",
    "    regr.fit(X, Y)\n",
    "    slope = regr.coef_[0]\n",
    "    intercept = regr.intercept_\n",
    "\n",
    "    print(\"%s = %f + %f x %s\" %(response, intercept, slope, regressor))\n",
    "    Yp = np.squeeze(regr.predict(X))\n",
    "    sse = np.sum((Yp - Y) ** 2)\n",
    "    print(\"Sum of squared errors: %f\" % sse)\n",
    "    # Explained variance score: 1 is perfect prediction\n",
    "    print('Variance score: %f\\n' % regr.score(X, Y))\n",
    "    return slope, intercept, sse, response, regressor\n"
   ]
  },
  {
   "cell_type": "markdown",
   "metadata": {},
   "source": [
    "Exercise\n",
    "======\n",
    "\n",
    "The samples have 4 features. For each combination of features (each pair or features), consider one of the variables as predictor and the other as response and use the function `model` to find the OLS model that best fits the data. Report the model with the smallest SSE score."
   ]
  },
  {
   "cell_type": "code",
   "execution_count": 3,
   "metadata": {},
   "outputs": [
    {
     "name": "stdout",
     "output_type": "stream",
     "text": [
      "swidth = -0.623012 + 0.807234 x slength\n",
      "Sum of squared errors: 554.051529\n",
      "Variance score: 0.557681\n",
      "\n",
      "plength = 0.813768 + 0.129891 x slength\n",
      "Sum of squared errors: 78.895875\n",
      "Variance score: 0.069630\n",
      "\n",
      "pwidth = -0.180937 + 0.084886 x slength\n",
      "Sum of squared errors: 30.353442\n",
      "Variance score: 0.077892\n",
      "\n",
      "slength = 2.644660 + 0.690854 x swidth\n",
      "Sum of squared errors: 474.173651\n",
      "Variance score: 0.557681\n",
      "\n",
      "plength = 1.188976 + 0.080463 x swidth\n",
      "Sum of squared errors: 76.062860\n",
      "Variance score: 0.031221\n",
      "\n",
      "pwidth = -0.025258 + 0.078776 x swidth\n",
      "Sum of squared errors: 30.367316\n",
      "Variance score: 0.078385\n",
      "\n",
      "slength = 4.221204 + 0.536063 x plength\n",
      "Sum of squared errors: 325.605927\n",
      "Variance score: 0.069630\n",
      "\n",
      "swidth = 2.849946 + 0.388015 x plength\n",
      "Sum of squared errors: 366.794995\n",
      "Variance score: 0.031221\n",
      "\n",
      "pwidth = -0.033080 + 0.189262 x plength\n",
      "Sum of squared errors: 30.802104\n",
      "Variance score: 0.093825\n",
      "\n",
      "slength = 4.782102 + 0.917614 x pwidth\n",
      "Sum of squared errors: 328.121136\n",
      "Variance score: 0.077892\n",
      "\n",
      "swidth = 3.175213 + 0.995028 x pwidth\n",
      "Sum of squared errors: 383.570696\n",
      "Variance score: 0.078385\n",
      "\n",
      "plength = 1.343040 + 0.495739 x pwidth\n",
      "Sum of squared errors: 80.680511\n",
      "Variance score: 0.093825\n",
      "\n"
     ]
    },
    {
     "data": {
      "text/plain": [
       "(array([0.08488552]),\n",
       " array([-0.18093689]),\n",
       " 30.353441739758498,\n",
       " 'pwidth',\n",
       " 'slength')"
      ]
     },
     "execution_count": 3,
     "metadata": {},
     "output_type": "execute_result"
    }
   ],
   "source": [
    "names = ['slength', 'swidth', 'plength', 'pwidth']\n",
    "# results = []\n",
    "# for i in range(4):\n",
    "#     for j in range(4):\n",
    "#         if i != j:\n",
    "#             print(i, j)\n",
    "#             results.append( model(data[:,i], data[:,j], names[i], names[j]) )\n",
    "results = [ model(data[:,i], data[:,j], names[i], names[j])  for i in range(4) for j in range(4) if i != j ]\n",
    "best = sorted(results, key=lambda x: x[2])\n",
    "best[0]"
   ]
  },
  {
   "cell_type": "code",
   "execution_count": null,
   "metadata": {},
   "outputs": [],
   "source": []
  }
 ],
 "metadata": {
  "anaconda-cloud": {},
  "kernelspec": {
   "display_name": "Python 3",
   "language": "python",
   "name": "python3"
  },
  "language_info": {
   "codemirror_mode": {
    "name": "ipython",
    "version": 3
   },
   "file_extension": ".py",
   "mimetype": "text/x-python",
   "name": "python",
   "nbconvert_exporter": "python",
   "pygments_lexer": "ipython3",
   "version": "3.6.8"
  }
 },
 "nbformat": 4,
 "nbformat_minor": 1
}
